{
 "cells": [
  {
   "cell_type": "code",
   "execution_count": 1,
   "metadata": {
    "ExecuteTime": {
     "end_time": "2020-10-04T12:15:30.114967Z",
     "start_time": "2020-10-04T12:15:29.798703Z"
    }
   },
   "outputs": [],
   "source": [
    "import pandas as pd"
   ]
  },
  {
   "cell_type": "markdown",
   "metadata": {},
   "source": [
    "# Mini reto 001"
   ]
  },
  {
   "cell_type": "markdown",
   "metadata": {},
   "source": [
    "### Ordenar las subseries de forma descendente\n",
    "\n",
    "La finalidad es ordenar de forma descendente las subseries 1..n que hay en la serie.\n",
    "\n",
    "Output solicitado:\n",
    "\n",
    "[6,5,4,3,2,1,4,3,2,1,5,4,3,2,1,2,1,9,8,7,6,5,4,3,2,1]"
   ]
  },
  {
   "cell_type": "code",
   "execution_count": 2,
   "metadata": {
    "ExecuteTime": {
     "end_time": "2020-10-04T12:15:30.127496Z",
     "start_time": "2020-10-04T12:15:30.117053Z"
    }
   },
   "outputs": [
    {
     "data": {
      "text/plain": [
       "0     1\n",
       "1     2\n",
       "2     3\n",
       "3     4\n",
       "4     5\n",
       "5     6\n",
       "6     1\n",
       "7     2\n",
       "8     3\n",
       "9     4\n",
       "10    1\n",
       "11    2\n",
       "12    3\n",
       "13    4\n",
       "14    5\n",
       "15    1\n",
       "16    2\n",
       "17    1\n",
       "18    2\n",
       "19    3\n",
       "20    4\n",
       "21    5\n",
       "22    6\n",
       "23    7\n",
       "24    8\n",
       "25    9\n",
       "dtype: int64"
      ]
     },
     "execution_count": 2,
     "metadata": {},
     "output_type": "execute_result"
    }
   ],
   "source": [
    "serie = pd.Series([1,2,3,4,5,6,1,2,3,4,1,2,3,4,5,1,2,1,2,3,4,5,6,7,8,9])\n",
    "serie"
   ]
  },
  {
   "cell_type": "markdown",
   "metadata": {},
   "source": [
    "## Solucion Propuesta por Paduel"
   ]
  },
  {
   "cell_type": "markdown",
   "metadata": {},
   "source": [
    "Solución en una linea."
   ]
  },
  {
   "cell_type": "code",
   "execution_count": 3,
   "metadata": {
    "ExecuteTime": {
     "end_time": "2020-10-04T12:15:30.140164Z",
     "start_time": "2020-10-04T12:15:30.129624Z"
    }
   },
   "outputs": [
    {
     "data": {
      "text/plain": [
       "0     6\n",
       "1     5\n",
       "2     4\n",
       "3     3\n",
       "4     2\n",
       "5     1\n",
       "6     4\n",
       "7     3\n",
       "8     2\n",
       "9     1\n",
       "10    5\n",
       "11    4\n",
       "12    3\n",
       "13    2\n",
       "14    1\n",
       "15    2\n",
       "16    1\n",
       "17    9\n",
       "18    8\n",
       "19    7\n",
       "20    6\n",
       "21    5\n",
       "22    4\n",
       "23    3\n",
       "24    2\n",
       "25    1\n",
       "dtype: int64"
      ]
     },
     "execution_count": 3,
     "metadata": {},
     "output_type": "execute_result"
    }
   ],
   "source": [
    "serie.groupby(serie.diff().shift(-1).fillna(-1).lt(0).replace(\n",
    "    False, pd.NA).mul(serie.index).bfill()).apply(\n",
    "        lambda x:x[::-1]).set_axis(serie.index)"
   ]
  },
  {
   "cell_type": "markdown",
   "metadata": {},
   "source": [
    "Lo mismo pero más legible. Mejor usar esta forma en nuestro código es mas limpio."
   ]
  },
  {
   "cell_type": "code",
   "execution_count": 4,
   "metadata": {
    "ExecuteTime": {
     "end_time": "2020-10-04T12:15:30.154245Z",
     "start_time": "2020-10-04T12:15:30.142601Z"
    }
   },
   "outputs": [],
   "source": [
    "maxis = serie.diff().shift(-1).fillna(-1).lt(0)\n",
    "groups = maxis.replace(False, pd.NA).mul(serie.index).bfill()\n",
    "reordenada = serie.groupby(groups).apply(lambda x:x[::-1]).set_axis(serie.index)"
   ]
  },
  {
   "cell_type": "code",
   "execution_count": 5,
   "metadata": {
    "ExecuteTime": {
     "end_time": "2020-10-04T12:15:30.161844Z",
     "start_time": "2020-10-04T12:15:30.155843Z"
    }
   },
   "outputs": [
    {
     "data": {
      "text/plain": [
       "0     6\n",
       "1     5\n",
       "2     4\n",
       "3     3\n",
       "4     2\n",
       "5     1\n",
       "6     4\n",
       "7     3\n",
       "8     2\n",
       "9     1\n",
       "10    5\n",
       "11    4\n",
       "12    3\n",
       "13    2\n",
       "14    1\n",
       "15    2\n",
       "16    1\n",
       "17    9\n",
       "18    8\n",
       "19    7\n",
       "20    6\n",
       "21    5\n",
       "22    4\n",
       "23    3\n",
       "24    2\n",
       "25    1\n",
       "dtype: int64"
      ]
     },
     "execution_count": 5,
     "metadata": {},
     "output_type": "execute_result"
    }
   ],
   "source": [
    "reordenada"
   ]
  },
  {
   "cell_type": "markdown",
   "metadata": {},
   "source": [
    "## Paso a paso"
   ]
  },
  {
   "cell_type": "markdown",
   "metadata": {},
   "source": [
    "Detectamos los sucesivos máximos en `serie`, simplemente comprobando su diferencia con el siguiente numero. Asignamos -1 al último valor, pues se produce un np.nan. Y comprobamos cuales son menores que cero."
   ]
  },
  {
   "cell_type": "code",
   "execution_count": 6,
   "metadata": {
    "ExecuteTime": {
     "end_time": "2020-10-04T12:15:30.172684Z",
     "start_time": "2020-10-04T12:15:30.164400Z"
    }
   },
   "outputs": [
    {
     "data": {
      "text/plain": [
       "0     False\n",
       "1     False\n",
       "2     False\n",
       "3     False\n",
       "4     False\n",
       "5      True\n",
       "6     False\n",
       "7     False\n",
       "8     False\n",
       "9      True\n",
       "10    False\n",
       "11    False\n",
       "12    False\n",
       "13    False\n",
       "14     True\n",
       "15    False\n",
       "16     True\n",
       "17    False\n",
       "18    False\n",
       "19    False\n",
       "20    False\n",
       "21    False\n",
       "22    False\n",
       "23    False\n",
       "24    False\n",
       "25     True\n",
       "dtype: bool"
      ]
     },
     "execution_count": 6,
     "metadata": {},
     "output_type": "execute_result"
    }
   ],
   "source": [
    "maxis = serie.diff().shift(-1).fillna(-1).lt(0)\n",
    "\n",
    "maxis"
   ]
  },
  {
   "cell_type": "markdown",
   "metadata": {},
   "source": [
    "Para identificar los componentes de los grupos reemplazamos los False por pd.NA, multiplicamos los True por su indice y finalmente rellenamos los p.NA hacia atras."
   ]
  },
  {
   "cell_type": "code",
   "execution_count": 7,
   "metadata": {
    "ExecuteTime": {
     "end_time": "2020-10-04T12:15:30.183288Z",
     "start_time": "2020-10-04T12:15:30.175063Z"
    }
   },
   "outputs": [
    {
     "data": {
      "text/plain": [
       "0      5.0\n",
       "1      5.0\n",
       "2      5.0\n",
       "3      5.0\n",
       "4      5.0\n",
       "5      5.0\n",
       "6      9.0\n",
       "7      9.0\n",
       "8      9.0\n",
       "9      9.0\n",
       "10    14.0\n",
       "11    14.0\n",
       "12    14.0\n",
       "13    14.0\n",
       "14    14.0\n",
       "15    16.0\n",
       "16    16.0\n",
       "17    25.0\n",
       "18    25.0\n",
       "19    25.0\n",
       "20    25.0\n",
       "21    25.0\n",
       "22    25.0\n",
       "23    25.0\n",
       "24    25.0\n",
       "25    25.0\n",
       "dtype: float64"
      ]
     },
     "execution_count": 7,
     "metadata": {},
     "output_type": "execute_result"
    }
   ],
   "source": [
    "groups = maxis.replace(False, pd.NA).mul(serie.index).bfill()\n",
    "\n",
    "groups"
   ]
  },
  {
   "cell_type": "markdown",
   "metadata": {},
   "source": [
    "Finalmente agrupamos `serie` en base a los grupos creados y los invertimos usando `apply` y le asignamos de nuevo el indice inial para dejarlo listo."
   ]
  },
  {
   "cell_type": "code",
   "execution_count": 8,
   "metadata": {
    "ExecuteTime": {
     "end_time": "2020-10-04T12:15:30.194911Z",
     "start_time": "2020-10-04T12:15:30.185239Z"
    }
   },
   "outputs": [
    {
     "data": {
      "text/plain": [
       "0     6\n",
       "1     5\n",
       "2     4\n",
       "3     3\n",
       "4     2\n",
       "5     1\n",
       "6     4\n",
       "7     3\n",
       "8     2\n",
       "9     1\n",
       "10    5\n",
       "11    4\n",
       "12    3\n",
       "13    2\n",
       "14    1\n",
       "15    2\n",
       "16    1\n",
       "17    9\n",
       "18    8\n",
       "19    7\n",
       "20    6\n",
       "21    5\n",
       "22    4\n",
       "23    3\n",
       "24    2\n",
       "25    1\n",
       "dtype: int64"
      ]
     },
     "execution_count": 8,
     "metadata": {},
     "output_type": "execute_result"
    }
   ],
   "source": [
    "reordenada = serie.groupby(groups).apply(lambda x:x[::-1]).set_axis(serie.index)\n",
    "\n",
    "reordenada"
   ]
  },
  {
   "cell_type": "markdown",
   "metadata": {},
   "source": [
    "Podríamos usar `.cumcount(ascending=False)` en vez de ese `apply` pero de esta forma sirve para series crecientes incluso cuando el paso de incremento sea mayor que uno. Obteniendo una solución más general."
   ]
  },
  {
   "cell_type": "code",
   "execution_count": null,
   "metadata": {},
   "outputs": [],
   "source": []
  }
 ],
 "metadata": {
  "kernelspec": {
   "display_name": "Python 3",
   "language": "python",
   "name": "python3"
  },
  "language_info": {
   "codemirror_mode": {
    "name": "ipython",
    "version": 3
   },
   "file_extension": ".py",
   "mimetype": "text/x-python",
   "name": "python",
   "nbconvert_exporter": "python",
   "pygments_lexer": "ipython3",
   "version": "3.7.7"
  },
  "latex_envs": {
   "LaTeX_envs_menu_present": true,
   "autoclose": false,
   "autocomplete": true,
   "bibliofile": "biblio.bib",
   "cite_by": "apalike",
   "current_citInitial": 1,
   "eqLabelWithNumbers": true,
   "eqNumInitial": 1,
   "hotkeys": {
    "equation": "Ctrl-E",
    "itemize": "Ctrl-I"
   },
   "labels_anchors": false,
   "latex_user_defs": false,
   "report_style_numbering": false,
   "user_envs_cfg": false
  },
  "varInspector": {
   "cols": {
    "lenName": 16,
    "lenType": 16,
    "lenVar": 40
   },
   "kernels_config": {
    "python": {
     "delete_cmd_postfix": "",
     "delete_cmd_prefix": "del ",
     "library": "var_list.py",
     "varRefreshCmd": "print(var_dic_list())"
    },
    "r": {
     "delete_cmd_postfix": ") ",
     "delete_cmd_prefix": "rm(",
     "library": "var_list.r",
     "varRefreshCmd": "cat(var_dic_list()) "
    }
   },
   "types_to_exclude": [
    "module",
    "function",
    "builtin_function_or_method",
    "instance",
    "_Feature"
   ],
   "window_display": false
  }
 },
 "nbformat": 4,
 "nbformat_minor": 4
}
